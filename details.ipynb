{
 "cells": [
  {
   "cell_type": "markdown",
   "metadata": {},
   "source": [
    "# Details"
   ]
  },
  {
   "cell_type": "markdown",
   "metadata": {},
   "source": [
    "![Create Table](img/image.png)\n",
    "\n",
    "![Insert and Read](img/image-1.png)\n",
    "\n",
    "![DELETE](img/image-2.png)\n",
    "\n",
    "# Python Internally uses QuerySetAPI\n",
    "![QuerySet API](img/image-3.png)"
   ]
  },
  {
   "cell_type": "markdown",
   "metadata": {},
   "source": []
  }
 ],
 "metadata": {
  "language_info": {
   "name": "python"
  },
  "orig_nbformat": 4
 },
 "nbformat": 4,
 "nbformat_minor": 2
}
